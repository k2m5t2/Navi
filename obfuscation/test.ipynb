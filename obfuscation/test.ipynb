{
 "cells": [
  {
   "cell_type": "code",
   "execution_count": null,
   "metadata": {},
   "outputs": [],
   "source": [
    "# import argparse\n",
    "import matplotlib.pyplot as plt\n",
    "\n",
    "\n",
    "from fnc.extractFeature import extractFeature\n",
    "from fnc.matching import matching\n",
    "\n",
    "# parser = argparse.ArgumentParser()\n",
    "\n",
    "# parser.add_argument(\"--file\", type=str,\n",
    "#                     help=\"Path to the file that you want to verify.\")\n",
    "\n",
    "# args = parser.parse_args()\n",
    "\n",
    "# filename = args.file\n",
    "\n",
    "filename = '001_1_2.bmp'\n",
    "\n",
    "print('>>> Start verifying {}\\n'.format(filename))\n",
    "template, mask, file = extractFeature(filename, use_multiprocess=False)\n",
    "\n",
    "# a = mask\n",
    "a = template\n",
    "\n",
    "c = plt.imshow(a)   #cmap ='Greens', vmin = z_min, vmax = z_max,\n",
    "                    #extent =[x.min(), x.max(), y.min(), y.max()],\n",
    "                    #interpolation ='nearest', origin ='lower')\n",
    "\n",
    "# plt.title('Extracted Feature', fontweight =\"bold\")\n",
    "\n",
    "plt.show()\n",
    "\n",
    "print('good')"
   ]
  }
 ],
 "metadata": {
  "language_info": {
   "name": "python"
  },
  "orig_nbformat": 4
 },
 "nbformat": 4,
 "nbformat_minor": 2
}
